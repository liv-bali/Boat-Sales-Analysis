{
 "cells": [
  {
   "cell_type": "markdown",
   "id": "dd406d0a-8ccd-4ac1-880b-9cef45828030",
   "metadata": {},
   "source": [
    "# Table of Contents\n",
    "1. Import libraries\n",
    "2. Clean data\n",
    "3. Perform descriptive statistics on dataframe\n",
    "   \n",
    "   "
   ]
  },
  {
   "cell_type": "markdown",
   "id": "97cab696-9e50-46ea-9645-3fe1025faae1",
   "metadata": {},
   "source": [
    "## 1. Import libraries"
   ]
  },
  {
   "cell_type": "code",
   "execution_count": 224,
   "id": "ab346731-08ab-4d69-b911-cf949af663d5",
   "metadata": {},
   "outputs": [],
   "source": [
    "import pandas as pd\n",
    "import numpy as np\n",
    "import os\n",
    "import matplotlib.pyplot as plt"
   ]
  },
  {
   "cell_type": "code",
   "execution_count": 226,
   "id": "f5f62ee4-c51c-42ff-b748-f7a758d97570",
   "metadata": {},
   "outputs": [],
   "source": [
    "path = r'C:\\Users\\olivi\\OneDrive\\Documents\\Data Analytics\\Data Analytics Immersion\\Boat Sales Analysis'"
   ]
  },
  {
   "cell_type": "code",
   "execution_count": 228,
   "id": "e28b68a0-3c59-457c-a8da-3ff9d19725a0",
   "metadata": {},
   "outputs": [],
   "source": [
    "df = pd.read_csv(os.path.join(path, '02 Data' , 'Original Data' , 'boat_data1.csv'))"
   ]
  },
  {
   "cell_type": "markdown",
   "id": "597cce16-cdd0-487d-9265-c14b38ef6f76",
   "metadata": {},
   "source": [
    "## 2. Clean Data\n",
    "Find following:\n",
    "* Duplicates\n",
    "* Missing Values"
   ]
  },
  {
   "cell_type": "code",
   "execution_count": 231,
   "id": "867551fa-2251-49d5-8c36-341d98e1e1aa",
   "metadata": {},
   "outputs": [
    {
     "data": {
      "text/html": [
       "<div>\n",
       "<style scoped>\n",
       "    .dataframe tbody tr th:only-of-type {\n",
       "        vertical-align: middle;\n",
       "    }\n",
       "\n",
       "    .dataframe tbody tr th {\n",
       "        vertical-align: top;\n",
       "    }\n",
       "\n",
       "    .dataframe thead th {\n",
       "        text-align: right;\n",
       "    }\n",
       "</style>\n",
       "<table border=\"1\" class=\"dataframe\">\n",
       "  <thead>\n",
       "    <tr style=\"text-align: right;\">\n",
       "      <th></th>\n",
       "      <th>Price</th>\n",
       "      <th>Boat Type</th>\n",
       "      <th>Manufacturer</th>\n",
       "      <th>Type</th>\n",
       "      <th>Year Built</th>\n",
       "      <th>Length</th>\n",
       "      <th>Width</th>\n",
       "      <th>Material</th>\n",
       "      <th>Location</th>\n",
       "      <th>Number of views last 7 days</th>\n",
       "    </tr>\n",
       "  </thead>\n",
       "  <tbody>\n",
       "    <tr>\n",
       "      <th>0</th>\n",
       "      <td>CHF 3337</td>\n",
       "      <td>Motor Yacht</td>\n",
       "      <td>Rigiflex power boats</td>\n",
       "      <td>new boat from stock</td>\n",
       "      <td>2017</td>\n",
       "      <td>4.00</td>\n",
       "      <td>1.90</td>\n",
       "      <td>NaN</td>\n",
       "      <td>Switzerland</td>\n",
       "      <td>226</td>\n",
       "    </tr>\n",
       "    <tr>\n",
       "      <th>1</th>\n",
       "      <td>EUR 3490</td>\n",
       "      <td>Center console boat</td>\n",
       "      <td>Terhi power boats</td>\n",
       "      <td>new boat from stock</td>\n",
       "      <td>2020</td>\n",
       "      <td>4.00</td>\n",
       "      <td>1.50</td>\n",
       "      <td>Thermoplastic</td>\n",
       "      <td>Germany</td>\n",
       "      <td>75</td>\n",
       "    </tr>\n",
       "    <tr>\n",
       "      <th>2</th>\n",
       "      <td>CHF 3770</td>\n",
       "      <td>Sport Boat</td>\n",
       "      <td>Marine power boats</td>\n",
       "      <td>new boat from stock</td>\n",
       "      <td>2005</td>\n",
       "      <td>3.69</td>\n",
       "      <td>1.42</td>\n",
       "      <td>Aluminium</td>\n",
       "      <td>Switzerland</td>\n",
       "      <td>124</td>\n",
       "    </tr>\n",
       "    <tr>\n",
       "      <th>3</th>\n",
       "      <td>DKK 25900</td>\n",
       "      <td>Sport Boat</td>\n",
       "      <td>Pioner power boats</td>\n",
       "      <td>new boat from stock</td>\n",
       "      <td>2020</td>\n",
       "      <td>3.00</td>\n",
       "      <td>1.00</td>\n",
       "      <td>NaN</td>\n",
       "      <td>Denmark</td>\n",
       "      <td>64</td>\n",
       "    </tr>\n",
       "    <tr>\n",
       "      <th>4</th>\n",
       "      <td>EUR 3399</td>\n",
       "      <td>Fishing Boat</td>\n",
       "      <td>Linder power boats</td>\n",
       "      <td>new boat from stock</td>\n",
       "      <td>2019</td>\n",
       "      <td>3.55</td>\n",
       "      <td>1.46</td>\n",
       "      <td>Aluminium</td>\n",
       "      <td>Germany</td>\n",
       "      <td>58</td>\n",
       "    </tr>\n",
       "  </tbody>\n",
       "</table>\n",
       "</div>"
      ],
      "text/plain": [
       "       Price            Boat Type          Manufacturer                 Type  \\\n",
       "0   CHF 3337          Motor Yacht  Rigiflex power boats  new boat from stock   \n",
       "1   EUR 3490  Center console boat     Terhi power boats  new boat from stock   \n",
       "2   CHF 3770           Sport Boat    Marine power boats  new boat from stock   \n",
       "3  DKK 25900           Sport Boat    Pioner power boats  new boat from stock   \n",
       "4   EUR 3399         Fishing Boat    Linder power boats  new boat from stock   \n",
       "\n",
       "   Year Built  Length  Width       Material     Location  \\\n",
       "0        2017    4.00   1.90            NaN  Switzerland   \n",
       "1        2020    4.00   1.50  Thermoplastic      Germany   \n",
       "2        2005    3.69   1.42      Aluminium  Switzerland   \n",
       "3        2020    3.00   1.00            NaN      Denmark   \n",
       "4        2019    3.55   1.46      Aluminium      Germany   \n",
       "\n",
       "   Number of views last 7 days  \n",
       "0                          226  \n",
       "1                           75  \n",
       "2                          124  \n",
       "3                           64  \n",
       "4                           58  "
      ]
     },
     "execution_count": 231,
     "metadata": {},
     "output_type": "execute_result"
    }
   ],
   "source": [
    "df.head(5)"
   ]
  },
  {
   "cell_type": "code",
   "execution_count": 233,
   "id": "84bbfcb6-e3c3-4606-9030-7c0bcf8fb1cf",
   "metadata": {},
   "outputs": [
    {
     "data": {
      "text/plain": [
       "(9888, 10)"
      ]
     },
     "execution_count": 233,
     "metadata": {},
     "output_type": "execute_result"
    }
   ],
   "source": [
    "df.shape"
   ]
  },
  {
   "cell_type": "code",
   "execution_count": 235,
   "id": "6c20bc5d-c0fd-4241-9041-dd06ec466927",
   "metadata": {},
   "outputs": [
    {
     "name": "stdout",
     "output_type": "stream",
     "text": [
      "Number of duplicate rows: 0\n"
     ]
    }
   ],
   "source": [
    "# Check for duplicate rows\n",
    "duplicate_rows = df.duplicated().sum()\n",
    "print(f\"Number of duplicate rows: {duplicate_rows}\")"
   ]
  },
  {
   "cell_type": "code",
   "execution_count": 237,
   "id": "1458a507-a914-4d51-bf95-5f722f198835",
   "metadata": {},
   "outputs": [
    {
     "name": "stdout",
     "output_type": "stream",
     "text": [
      "Missing values per column:\n",
      " Price                             0\n",
      "Boat Type                         0\n",
      "Manufacturer                   1338\n",
      "Type                              6\n",
      "Year Built                        0\n",
      "Length                            9\n",
      "Width                            56\n",
      "Material                       1749\n",
      "Location                         36\n",
      "Number of views last 7 days       0\n",
      "dtype: int64\n"
     ]
    }
   ],
   "source": [
    "# Check for missing values\n",
    "missing_values= df.isnull().sum()\n",
    "print(\"Missing values per column:\\n\", missing_values)"
   ]
  },
  {
   "cell_type": "code",
   "execution_count": 239,
   "id": "0fa569ec-e24a-4548-b0fd-5bfed089d6c4",
   "metadata": {},
   "outputs": [],
   "source": [
    "df_no_miss = df"
   ]
  },
  {
   "cell_type": "code",
   "execution_count": 241,
   "id": "4326fae4-7bc5-4239-a0fc-def5bd962aa4",
   "metadata": {},
   "outputs": [],
   "source": [
    "# Handle missing values\n",
    "df_no_miss['Width'] = df['Width'].fillna(df['Width'].mean())"
   ]
  },
  {
   "cell_type": "code",
   "execution_count": 243,
   "id": "2f396df2-a174-4fec-ab09-bc2ef526f54a",
   "metadata": {},
   "outputs": [],
   "source": [
    "df_clean = df_no_miss.dropna()"
   ]
  },
  {
   "cell_type": "code",
   "execution_count": 245,
   "id": "e9872e5b-5879-4be4-aa82-72a0db5879ce",
   "metadata": {},
   "outputs": [
    {
     "name": "stdout",
     "output_type": "stream",
     "text": [
      "Missing values per column:\n",
      " Price                          0\n",
      "Boat Type                      0\n",
      "Manufacturer                   0\n",
      "Type                           0\n",
      "Year Built                     0\n",
      "Length                         0\n",
      "Width                          0\n",
      "Material                       0\n",
      "Location                       0\n",
      "Number of views last 7 days    0\n",
      "dtype: int64\n"
     ]
    }
   ],
   "source": [
    "missing_values_1 = df_clean.isnull().sum()\n",
    "print('Missing values per column:\\n', missing_values_1)"
   ]
  },
  {
   "cell_type": "code",
   "execution_count": 247,
   "id": "f8bf2531-6137-4365-b7ee-115fea070a62",
   "metadata": {},
   "outputs": [],
   "source": [
    "df = df_clean"
   ]
  },
  {
   "cell_type": "code",
   "execution_count": 249,
   "id": "07eba18b-178a-40cf-8aaf-c34ea12de5b9",
   "metadata": {},
   "outputs": [
    {
     "data": {
      "text/html": [
       "<div>\n",
       "<style scoped>\n",
       "    .dataframe tbody tr th:only-of-type {\n",
       "        vertical-align: middle;\n",
       "    }\n",
       "\n",
       "    .dataframe tbody tr th {\n",
       "        vertical-align: top;\n",
       "    }\n",
       "\n",
       "    .dataframe thead th {\n",
       "        text-align: right;\n",
       "    }\n",
       "</style>\n",
       "<table border=\"1\" class=\"dataframe\">\n",
       "  <thead>\n",
       "    <tr style=\"text-align: right;\">\n",
       "      <th></th>\n",
       "      <th>Price</th>\n",
       "      <th>Boat Type</th>\n",
       "      <th>Manufacturer</th>\n",
       "      <th>Type</th>\n",
       "      <th>Year Built</th>\n",
       "      <th>Length</th>\n",
       "      <th>Width</th>\n",
       "      <th>Material</th>\n",
       "      <th>Location</th>\n",
       "      <th>Number of views last 7 days</th>\n",
       "    </tr>\n",
       "  </thead>\n",
       "  <tbody>\n",
       "    <tr>\n",
       "      <th>1</th>\n",
       "      <td>EUR 3490</td>\n",
       "      <td>Center console boat</td>\n",
       "      <td>Terhi power boats</td>\n",
       "      <td>new boat from stock</td>\n",
       "      <td>2020</td>\n",
       "      <td>4.00</td>\n",
       "      <td>1.50</td>\n",
       "      <td>Thermoplastic</td>\n",
       "      <td>Germany</td>\n",
       "      <td>75</td>\n",
       "    </tr>\n",
       "    <tr>\n",
       "      <th>2</th>\n",
       "      <td>CHF 3770</td>\n",
       "      <td>Sport Boat</td>\n",
       "      <td>Marine power boats</td>\n",
       "      <td>new boat from stock</td>\n",
       "      <td>2005</td>\n",
       "      <td>3.69</td>\n",
       "      <td>1.42</td>\n",
       "      <td>Aluminium</td>\n",
       "      <td>Switzerland</td>\n",
       "      <td>124</td>\n",
       "    </tr>\n",
       "    <tr>\n",
       "      <th>4</th>\n",
       "      <td>EUR 3399</td>\n",
       "      <td>Fishing Boat</td>\n",
       "      <td>Linder power boats</td>\n",
       "      <td>new boat from stock</td>\n",
       "      <td>2019</td>\n",
       "      <td>3.55</td>\n",
       "      <td>1.46</td>\n",
       "      <td>Aluminium</td>\n",
       "      <td>Germany</td>\n",
       "      <td>58</td>\n",
       "    </tr>\n",
       "    <tr>\n",
       "      <th>5</th>\n",
       "      <td>CHF 3650</td>\n",
       "      <td>Sport Boat</td>\n",
       "      <td>Linder power boats</td>\n",
       "      <td>new boat from stock</td>\n",
       "      <td>2005</td>\n",
       "      <td>4.03</td>\n",
       "      <td>1.56</td>\n",
       "      <td>Aluminium</td>\n",
       "      <td>Switzerland</td>\n",
       "      <td>132</td>\n",
       "    </tr>\n",
       "    <tr>\n",
       "      <th>10</th>\n",
       "      <td>CHF 3500</td>\n",
       "      <td>Fishing Boat</td>\n",
       "      <td>Terhi power boats</td>\n",
       "      <td>Used boat,Electric</td>\n",
       "      <td>1987</td>\n",
       "      <td>4.35</td>\n",
       "      <td>1.75</td>\n",
       "      <td>GRP</td>\n",
       "      <td>Switzerland</td>\n",
       "      <td>239</td>\n",
       "    </tr>\n",
       "  </tbody>\n",
       "</table>\n",
       "</div>"
      ],
      "text/plain": [
       "       Price            Boat Type        Manufacturer                 Type  \\\n",
       "1   EUR 3490  Center console boat   Terhi power boats  new boat from stock   \n",
       "2   CHF 3770           Sport Boat  Marine power boats  new boat from stock   \n",
       "4   EUR 3399         Fishing Boat  Linder power boats  new boat from stock   \n",
       "5   CHF 3650           Sport Boat  Linder power boats  new boat from stock   \n",
       "10  CHF 3500         Fishing Boat   Terhi power boats   Used boat,Electric   \n",
       "\n",
       "    Year Built  Length  Width       Material     Location  \\\n",
       "1         2020    4.00   1.50  Thermoplastic      Germany   \n",
       "2         2005    3.69   1.42      Aluminium  Switzerland   \n",
       "4         2019    3.55   1.46      Aluminium      Germany   \n",
       "5         2005    4.03   1.56      Aluminium  Switzerland   \n",
       "10        1987    4.35   1.75            GRP  Switzerland   \n",
       "\n",
       "    Number of views last 7 days  \n",
       "1                            75  \n",
       "2                           124  \n",
       "4                            58  \n",
       "5                           132  \n",
       "10                          239  "
      ]
     },
     "execution_count": 249,
     "metadata": {},
     "output_type": "execute_result"
    }
   ],
   "source": [
    "df.head(5)"
   ]
  },
  {
   "cell_type": "markdown",
   "id": "2a26ab88-9ace-4df8-abca-3cc7532a5f12",
   "metadata": {},
   "source": [
    "## 3. Perform descriptive statistics on dataframe"
   ]
  },
  {
   "cell_type": "code",
   "execution_count": 252,
   "id": "b702a56b-a4a9-4e64-be68-53850b8ad119",
   "metadata": {},
   "outputs": [
    {
     "data": {
      "text/plain": [
       "(7034, 10)"
      ]
     },
     "execution_count": 252,
     "metadata": {},
     "output_type": "execute_result"
    }
   ],
   "source": [
    "df.shape"
   ]
  },
  {
   "cell_type": "code",
   "execution_count": 254,
   "id": "ad933144-dcae-4634-a195-09052c31bf58",
   "metadata": {},
   "outputs": [
    {
     "data": {
      "text/plain": [
       "<bound method DataFrame.info of          Price            Boat Type           Manufacturer  \\\n",
       "1     EUR 3490  Center console boat      Terhi power boats   \n",
       "2     CHF 3770           Sport Boat     Marine power boats   \n",
       "4     EUR 3399         Fishing Boat     Linder power boats   \n",
       "5     CHF 3650           Sport Boat     Linder power boats   \n",
       "10    CHF 3500         Fishing Boat      Terhi power boats   \n",
       "...        ...                  ...                    ...   \n",
       "9880  CHF 4980           Sport Boat     Linder power boats   \n",
       "9881  CHF 4950           Sport Boat     Marine power boats   \n",
       "9882  CHF 4950         Fishing Boat  Staempfli power boats   \n",
       "9885  EUR 4499           Sport Boat  BlueCraft power boats   \n",
       "9887  CHF 3780         Fishing Boat    DarekCo power boats   \n",
       "\n",
       "                              Type  Year Built  Length  Width       Material  \\\n",
       "1              new boat from stock        2020    4.00   1.50  Thermoplastic   \n",
       "2              new boat from stock        2005    3.69   1.42      Aluminium   \n",
       "4              new boat from stock        2019    3.55   1.46      Aluminium   \n",
       "5              new boat from stock        2005    4.03   1.56      Aluminium   \n",
       "10              Used boat,Electric        1987    4.35   1.75            GRP   \n",
       "...                            ...         ...     ...    ...            ...   \n",
       "9880           new boat from stock        2005    4.01   1.64      Aluminium   \n",
       "9881           new boat from stock        2005    3.99   1.52      Aluminium   \n",
       "9882            Used boat,Unleaded        1984    6.00   1.62        Plastic   \n",
       "9885  new boat from stock,Unleaded        2020    4.40   1.80            GRP   \n",
       "9887           new boat from stock        2019    3.60   1.60            GRP   \n",
       "\n",
       "         Location  Number of views last 7 days  \n",
       "1         Germany                           75  \n",
       "2     Switzerland                          124  \n",
       "4         Germany                           58  \n",
       "5     Switzerland                          132  \n",
       "10    Switzerland                          239  \n",
       "...           ...                          ...  \n",
       "9880  Switzerland                          247  \n",
       "9881  Switzerland                          150  \n",
       "9882  Switzerland                          288  \n",
       "9885      Germany                          354  \n",
       "9887  Switzerland                          194  \n",
       "\n",
       "[7034 rows x 10 columns]>"
      ]
     },
     "execution_count": 254,
     "metadata": {},
     "output_type": "execute_result"
    }
   ],
   "source": [
    "df.info"
   ]
  },
  {
   "cell_type": "code",
   "execution_count": 256,
   "id": "609d5628-a2cc-4a2c-80f0-cb8968565376",
   "metadata": {},
   "outputs": [
    {
     "name": "stdout",
     "output_type": "stream",
     "text": [
      "<class 'pandas.core.frame.DataFrame'>\n",
      "Index: 7034 entries, 1 to 9887\n",
      "Data columns (total 10 columns):\n",
      " #   Column                       Non-Null Count  Dtype  \n",
      "---  ------                       --------------  -----  \n",
      " 0   Price                        7034 non-null   object \n",
      " 1   Boat Type                    7034 non-null   object \n",
      " 2   Manufacturer                 7034 non-null   object \n",
      " 3   Type                         7034 non-null   object \n",
      " 4   Year Built                   7034 non-null   int64  \n",
      " 5   Length                       7034 non-null   float64\n",
      " 6   Width                        7034 non-null   float64\n",
      " 7   Material                     7034 non-null   object \n",
      " 8   Location                     7034 non-null   object \n",
      " 9   Number of views last 7 days  7034 non-null   int64  \n",
      "dtypes: float64(2), int64(2), object(6)\n",
      "memory usage: 604.5+ KB\n"
     ]
    }
   ],
   "source": [
    "df.info()"
   ]
  },
  {
   "cell_type": "code",
   "execution_count": 258,
   "id": "45e90f81-b7e9-4b41-896c-13fc5758f5d4",
   "metadata": {},
   "outputs": [
    {
     "name": "stdout",
     "output_type": "stream",
     "text": [
      "Mean values:\n",
      " Length                           11.035699\n",
      "Width                             3.433294\n",
      "Number of views last 7 days     160.032556\n",
      "Year Built                     2006.663492\n",
      "dtype: float64\n",
      "\n",
      "Median values:\n",
      " Length                            9.95\n",
      "Width                             3.20\n",
      "Number of views last 7 days     112.00\n",
      "Year Built                     2008.00\n",
      "dtype: float64\n",
      "\n",
      "Standard deviation:\n",
      " Length                           5.140707\n",
      "Width                            1.118578\n",
      "Number of views last 7 days    167.098706\n",
      "Year Built                      12.270069\n",
      "dtype: float64\n"
     ]
    }
   ],
   "source": [
    "# Define the columns to analyze\n",
    "columns_to_analyze = ['Length', 'Width', 'Number of views last 7 days', 'Year Built']\n",
    "\n",
    "# Calculate mean, median, and standard deviation for these columns\n",
    "mean_values = df[columns_to_analyze].mean()\n",
    "median_values = df[columns_to_analyze].median()\n",
    "std_dev_values = df[columns_to_analyze].std()\n",
    "\n",
    "# Print results\n",
    "print(\"Mean values:\\n\", mean_values)\n",
    "print(\"\\nMedian values:\\n\", median_values)\n",
    "print(\"\\nStandard deviation:\\n\", std_dev_values)"
   ]
  },
  {
   "cell_type": "markdown",
   "id": "db436b79-b42f-437f-bc42-cdc3228d14b3",
   "metadata": {},
   "source": [
    "## Export Data"
   ]
  },
  {
   "cell_type": "code",
   "execution_count": 261,
   "id": "016453e4-8817-45df-a95e-fa9bced1dc4b",
   "metadata": {},
   "outputs": [],
   "source": [
    "df.to_csv(os.path.join(path, '02 Data' , 'Prepared Data' , 'boat_data.csv'))"
   ]
  },
  {
   "cell_type": "code",
   "execution_count": null,
   "id": "667084f6-0f14-418c-9045-2d189ff350b9",
   "metadata": {},
   "outputs": [],
   "source": []
  }
 ],
 "metadata": {
  "kernelspec": {
   "display_name": "Python 3 (ipykernel)",
   "language": "python",
   "name": "python3"
  },
  "language_info": {
   "codemirror_mode": {
    "name": "ipython",
    "version": 3
   },
   "file_extension": ".py",
   "mimetype": "text/x-python",
   "name": "python",
   "nbconvert_exporter": "python",
   "pygments_lexer": "ipython3",
   "version": "3.12.4"
  }
 },
 "nbformat": 4,
 "nbformat_minor": 5
}
